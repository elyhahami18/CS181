{
 "cells": [
  {
   "cell_type": "code",
   "execution_count": 2,
   "id": "db111e02",
   "metadata": {},
   "outputs": [],
   "source": [
    "# standard imports\n",
    "import numpy as np\n",
    "import pandas as pd\n",
    "import matplotlib.pyplot as plt\n",
    "import seaborn as sns\n",
    "from scipy.stats import multivariate_normal as mvn"
   ]
  },
  {
   "cell_type": "markdown",
   "id": "e7320304",
   "metadata": {},
   "source": [
    "## 2.1 Plot $y = -3x^2 + 72x + 70$."
   ]
  },
  {
   "cell_type": "code",
   "execution_count": 3,
   "id": "de64175e",
   "metadata": {},
   "outputs": [],
   "source": [
    "# Your code here"
   ]
  },
  {
   "cell_type": "markdown",
   "id": "bfe7bd0a",
   "metadata": {},
   "source": [
    "## 2.3 Plot $f(x_1, x_2)$."
   ]
  },
  {
   "cell_type": "code",
   "execution_count": 4,
   "id": "5130b447",
   "metadata": {},
   "outputs": [],
   "source": [
    "# Your code here"
   ]
  },
  {
   "cell_type": "markdown",
   "id": "73293532",
   "metadata": {},
   "source": [
    "## 3.1(a) Draw from joint distribution of $(S, W)$ and generate bivariate histogram."
   ]
  },
  {
   "cell_type": "code",
   "execution_count": 5,
   "id": "f8add966",
   "metadata": {},
   "outputs": [],
   "source": [
    "# Your code here"
   ]
  },
  {
   "cell_type": "markdown",
   "id": "be0744ef",
   "metadata": {},
   "source": [
    "## 3.2 Plot the joint PDFs at $S=118$ and $S=122$, varying $W$."
   ]
  },
  {
   "cell_type": "code",
   "execution_count": 6,
   "id": "06df8bb3",
   "metadata": {},
   "outputs": [],
   "source": [
    "# Your code here"
   ]
  },
  {
   "cell_type": "markdown",
   "id": "0889f71d",
   "metadata": {},
   "source": [
    "## 3.5(a) Function to simulate draws from $T^{*}$."
   ]
  },
  {
   "cell_type": "code",
   "execution_count": 7,
   "id": "1483559c",
   "metadata": {},
   "outputs": [],
   "source": [
    "# Your code here"
   ]
  },
  {
   "cell_type": "markdown",
   "id": "13646fb6",
   "metadata": {},
   "source": [
    "## 3.5(b) Empirically estimate the mean and standard deviation of $T^{*}$ by generating $1000$ samples."
   ]
  },
  {
   "cell_type": "code",
   "execution_count": 8,
   "id": "fdd1f260",
   "metadata": {},
   "outputs": [],
   "source": [
    "# Your code here"
   ]
  }
 ],
 "metadata": {
  "kernelspec": {
   "display_name": "Python 3",
   "language": "python",
   "name": "python3"
  },
  "language_info": {
   "codemirror_mode": {
    "name": "ipython",
    "version": 3
   },
   "file_extension": ".py",
   "mimetype": "text/x-python",
   "name": "python",
   "nbconvert_exporter": "python",
   "pygments_lexer": "ipython3",
   "version": "3.12.1"
  },
  "vscode": {
   "interpreter": {
    "hash": "a0a5145e6c304e2a9afaf5b930a2955b950bd4b81fe94f7c42930f43f42762eb"
   }
  }
 },
 "nbformat": 4,
 "nbformat_minor": 5
}
